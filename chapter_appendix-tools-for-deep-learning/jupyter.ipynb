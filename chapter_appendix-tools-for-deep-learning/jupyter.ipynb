{
  "cells": [
    {
      "cell_type": "markdown",
      "metadata": {
        "id": "view-in-github",
        "colab_type": "text"
      },
      "source": [
        "<a href=\"https://colab.research.google.com/github/freetech357/ailogin/blob/main/chapter_appendix-tools-for-deep-learning/jupyter.ipynb\" target=\"_parent\"><img src=\"https://colab.research.google.com/assets/colab-badge.svg\" alt=\"Open In Colab\"/></a>"
      ]
    },
    {
      "cell_type": "code",
      "source": [
        "import torch as t"
      ],
      "metadata": {
        "id": "QQ5AJEBF5BXQ"
      },
      "id": "QQ5AJEBF5BXQ",
      "execution_count": 2,
      "outputs": []
    },
    {
      "cell_type": "markdown",
      "source": [
        "## **1. Addition**"
      ],
      "metadata": {
        "id": "ZlCgbaTQ5f3l"
      },
      "id": "ZlCgbaTQ5f3l"
    },
    {
      "cell_type": "code",
      "source": [
        "t1 = t.tensor([1,2,3])\n",
        "t2 = t1 + 10\n",
        "t2"
      ],
      "metadata": {
        "colab": {
          "base_uri": "https://localhost:8080/"
        },
        "id": "riJ7OV2m5J9z",
        "outputId": "87f21874-095d-4c49-c08e-20221bcd4e12"
      },
      "id": "riJ7OV2m5J9z",
      "execution_count": 4,
      "outputs": [
        {
          "output_type": "execute_result",
          "data": {
            "text/plain": [
              "tensor([11, 12, 13])"
            ]
          },
          "metadata": {},
          "execution_count": 4
        }
      ]
    },
    {
      "cell_type": "code",
      "source": [
        "t3 = t1 + t2\n",
        "t3"
      ],
      "metadata": {
        "colab": {
          "base_uri": "https://localhost:8080/"
        },
        "id": "7RztOLs56FBT",
        "outputId": "a1fe4538-833c-4c20-d2ca-120d0a700ec4"
      },
      "id": "7RztOLs56FBT",
      "execution_count": 7,
      "outputs": [
        {
          "output_type": "execute_result",
          "data": {
            "text/plain": [
              "tensor([12, 14, 16])"
            ]
          },
          "metadata": {},
          "execution_count": 7
        }
      ]
    },
    {
      "cell_type": "code",
      "source": [
        "t4 = t.add(t2,t3)\n",
        "t4"
      ],
      "metadata": {
        "colab": {
          "base_uri": "https://localhost:8080/"
        },
        "id": "ZkLyjWTW6eYF",
        "outputId": "b5ac8db6-913c-461c-b782-7432133ffe5e"
      },
      "id": "ZkLyjWTW6eYF",
      "execution_count": 9,
      "outputs": [
        {
          "output_type": "execute_result",
          "data": {
            "text/plain": [
              "tensor([23, 26, 29])"
            ]
          },
          "metadata": {},
          "execution_count": 9
        }
      ]
    },
    {
      "cell_type": "markdown",
      "source": [
        "# **2. Substraction**"
      ],
      "metadata": {
        "id": "g3mkq2yB6zTF"
      },
      "id": "g3mkq2yB6zTF"
    },
    {
      "cell_type": "code",
      "source": [
        "t5 = t4 - 2\n",
        "t5"
      ],
      "metadata": {
        "colab": {
          "base_uri": "https://localhost:8080/"
        },
        "id": "EbqFzrBs63Yi",
        "outputId": "7e629a06-c2c4-43dc-996f-6bec8796ccd6"
      },
      "id": "EbqFzrBs63Yi",
      "execution_count": 10,
      "outputs": [
        {
          "output_type": "execute_result",
          "data": {
            "text/plain": [
              "tensor([21, 24, 27])"
            ]
          },
          "metadata": {},
          "execution_count": 10
        }
      ]
    },
    {
      "cell_type": "code",
      "source": [
        "t6 = t5 - t3\n",
        "t6"
      ],
      "metadata": {
        "colab": {
          "base_uri": "https://localhost:8080/"
        },
        "id": "Jid132SH7BJ7",
        "outputId": "065fa961-0b37-42ee-ecbd-28e12d082795"
      },
      "id": "Jid132SH7BJ7",
      "execution_count": 12,
      "outputs": [
        {
          "output_type": "execute_result",
          "data": {
            "text/plain": [
              "tensor([ 9, 10, 11])"
            ]
          },
          "metadata": {},
          "execution_count": 12
        }
      ]
    },
    {
      "cell_type": "code",
      "source": [
        "t.sub(t5,t6)"
      ],
      "metadata": {
        "colab": {
          "base_uri": "https://localhost:8080/"
        },
        "id": "zoJBoUnr7I4b",
        "outputId": "b3630ef7-d2c0-40f0-880b-a6ca491bde39"
      },
      "id": "zoJBoUnr7I4b",
      "execution_count": 13,
      "outputs": [
        {
          "output_type": "execute_result",
          "data": {
            "text/plain": [
              "tensor([12, 14, 16])"
            ]
          },
          "metadata": {},
          "execution_count": 13
        }
      ]
    },
    {
      "cell_type": "markdown",
      "source": [
        "# **3. Multiplication (Element wise)**"
      ],
      "metadata": {
        "id": "TBPB3Wq47RBE"
      },
      "id": "TBPB3Wq47RBE"
    },
    {
      "cell_type": "code",
      "source": [
        "t7 = t6 * 10\n",
        "t7"
      ],
      "metadata": {
        "colab": {
          "base_uri": "https://localhost:8080/"
        },
        "id": "FBUE4wX47VV0",
        "outputId": "8cfd5d98-8c04-46f3-b71d-e3c867be8dab"
      },
      "id": "FBUE4wX47VV0",
      "execution_count": 14,
      "outputs": [
        {
          "output_type": "execute_result",
          "data": {
            "text/plain": [
              "tensor([ 90, 100, 110])"
            ]
          },
          "metadata": {},
          "execution_count": 14
        }
      ]
    },
    {
      "cell_type": "code",
      "source": [
        "t8 = t5 * t1\n",
        "t8"
      ],
      "metadata": {
        "id": "nfy4jOLI7sIN",
        "outputId": "ab1624a4-7e15-461a-f3d8-22f76007aadd",
        "colab": {
          "base_uri": "https://localhost:8080/"
        }
      },
      "id": "nfy4jOLI7sIN",
      "execution_count": 15,
      "outputs": [
        {
          "output_type": "execute_result",
          "data": {
            "text/plain": [
              "tensor([21, 48, 81])"
            ]
          },
          "metadata": {},
          "execution_count": 15
        }
      ]
    },
    {
      "cell_type": "code",
      "source": [
        "t9 = t.mul(t2,t3)"
      ],
      "metadata": {
        "id": "tbLr5xKe7zj0",
        "outputId": "55fef15b-6c37-4bb4-a016-93fb76cd97dd",
        "colab": {
          "base_uri": "https://localhost:8080/"
        }
      },
      "id": "tbLr5xKe7zj0",
      "execution_count": 17,
      "outputs": [
        {
          "output_type": "execute_result",
          "data": {
            "text/plain": [
              "tensor([132, 168, 208])"
            ]
          },
          "metadata": {},
          "execution_count": 17
        }
      ]
    },
    {
      "cell_type": "code",
      "source": [
        "t10 = t.mul(t1,10)\n",
        "t10"
      ],
      "metadata": {
        "id": "_EFXT-Iw8CX9",
        "outputId": "35a24d05-c536-4eb0-c3bf-2bcf76a21def",
        "colab": {
          "base_uri": "https://localhost:8080/"
        }
      },
      "id": "_EFXT-Iw8CX9",
      "execution_count": 19,
      "outputs": [
        {
          "output_type": "execute_result",
          "data": {
            "text/plain": [
              "tensor([10, 20, 30])"
            ]
          },
          "metadata": {},
          "execution_count": 19
        }
      ]
    },
    {
      "cell_type": "markdown",
      "source": [
        "# **4. Divisions**"
      ],
      "metadata": {
        "id": "9F32jYUu8LjW"
      },
      "id": "9F32jYUu8LjW"
    },
    {
      "cell_type": "code",
      "source": [
        "t11 = t2 / 10\n",
        "t11"
      ],
      "metadata": {
        "id": "x1_84IUV8PIP",
        "outputId": "4c837dc8-ddd9-4ad5-e9db-7c673a0bf611",
        "colab": {
          "base_uri": "https://localhost:8080/"
        }
      },
      "id": "x1_84IUV8PIP",
      "execution_count": 21,
      "outputs": [
        {
          "output_type": "execute_result",
          "data": {
            "text/plain": [
              "tensor([1.1000, 1.2000, 1.3000])"
            ]
          },
          "metadata": {},
          "execution_count": 21
        }
      ]
    },
    {
      "cell_type": "markdown",
      "source": [
        "# **5. Matrix multiplication**"
      ],
      "metadata": {
        "id": "tEBJRKSS9KJX"
      },
      "id": "tEBJRKSS9KJX"
    },
    {
      "cell_type": "code",
      "source": [
        "t12 = t1 @ t2\n",
        "t12"
      ],
      "metadata": {
        "id": "stQc19kv9JG3",
        "outputId": "fb8e3a70-4070-42ad-f03f-1571155ca8fb",
        "colab": {
          "base_uri": "https://localhost:8080/"
        }
      },
      "id": "stQc19kv9JG3",
      "execution_count": 23,
      "outputs": [
        {
          "output_type": "execute_result",
          "data": {
            "text/plain": [
              "tensor(74)"
            ]
          },
          "metadata": {},
          "execution_count": 23
        }
      ]
    },
    {
      "cell_type": "code",
      "source": [
        "t13 = t.rand(2,3)\n",
        "t13"
      ],
      "metadata": {
        "id": "FiNHV9QG9fPs",
        "outputId": "7a8c0b15-f185-487d-b925-b9290b3bf020",
        "colab": {
          "base_uri": "https://localhost:8080/"
        }
      },
      "id": "FiNHV9QG9fPs",
      "execution_count": 27,
      "outputs": [
        {
          "output_type": "execute_result",
          "data": {
            "text/plain": [
              "tensor([[0.2740, 0.3218, 0.3620],\n",
              "        [0.6078, 0.7748, 0.9182]])"
            ]
          },
          "metadata": {},
          "execution_count": 27
        }
      ]
    }
  ],
  "metadata": {
    "kernelspec": {
      "display_name": "Python 3",
      "name": "python3"
    },
    "language_info": {
      "name": "python"
    },
    "required_libs": [],
    "colab": {
      "provenance": [],
      "include_colab_link": true
    }
  },
  "nbformat": 4,
  "nbformat_minor": 5
}