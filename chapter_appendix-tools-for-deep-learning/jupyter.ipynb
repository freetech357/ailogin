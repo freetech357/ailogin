{
  "cells": [
    {
      "cell_type": "markdown",
      "metadata": {
        "id": "view-in-github",
        "colab_type": "text"
      },
      "source": [
        "<a href=\"https://colab.research.google.com/github/freetech357/ailogin/blob/main/chapter_appendix-tools-for-deep-learning/jupyter.ipynb\" target=\"_parent\"><img src=\"https://colab.research.google.com/assets/colab-badge.svg\" alt=\"Open In Colab\"/></a>"
      ]
    },
    {
      "cell_type": "code",
      "source": [
        "import torch as t"
      ],
      "metadata": {
        "id": "QQ5AJEBF5BXQ"
      },
      "id": "QQ5AJEBF5BXQ",
      "execution_count": 2,
      "outputs": []
    },
    {
      "cell_type": "markdown",
      "source": [
        "## **1. Addition**"
      ],
      "metadata": {
        "id": "ZlCgbaTQ5f3l"
      },
      "id": "ZlCgbaTQ5f3l"
    },
    {
      "cell_type": "code",
      "source": [
        "t1 = t.tensor([1,2,3])\n",
        "t2 = t1 + 10\n",
        "t2"
      ],
      "metadata": {
        "colab": {
          "base_uri": "https://localhost:8080/"
        },
        "id": "riJ7OV2m5J9z",
        "outputId": "87f21874-095d-4c49-c08e-20221bcd4e12"
      },
      "id": "riJ7OV2m5J9z",
      "execution_count": 4,
      "outputs": [
        {
          "output_type": "execute_result",
          "data": {
            "text/plain": [
              "tensor([11, 12, 13])"
            ]
          },
          "metadata": {},
          "execution_count": 4
        }
      ]
    },
    {
      "cell_type": "code",
      "source": [
        "t3 = t1 + t2\n",
        "t3"
      ],
      "metadata": {
        "colab": {
          "base_uri": "https://localhost:8080/"
        },
        "id": "7RztOLs56FBT",
        "outputId": "a1fe4538-833c-4c20-d2ca-120d0a700ec4"
      },
      "id": "7RztOLs56FBT",
      "execution_count": 7,
      "outputs": [
        {
          "output_type": "execute_result",
          "data": {
            "text/plain": [
              "tensor([12, 14, 16])"
            ]
          },
          "metadata": {},
          "execution_count": 7
        }
      ]
    },
    {
      "cell_type": "code",
      "source": [
        "t4 = t.add(t2,t3)\n",
        "t4"
      ],
      "metadata": {
        "id": "ZkLyjWTW6eYF",
        "outputId": "b5ac8db6-913c-461c-b782-7432133ffe5e",
        "colab": {
          "base_uri": "https://localhost:8080/"
        }
      },
      "id": "ZkLyjWTW6eYF",
      "execution_count": 9,
      "outputs": [
        {
          "output_type": "execute_result",
          "data": {
            "text/plain": [
              "tensor([23, 26, 29])"
            ]
          },
          "metadata": {},
          "execution_count": 9
        }
      ]
    },
    {
      "cell_type": "markdown",
      "source": [
        "# **2. Substraction**"
      ],
      "metadata": {
        "id": "g3mkq2yB6zTF"
      },
      "id": "g3mkq2yB6zTF"
    },
    {
      "cell_type": "code",
      "source": [
        "t5 = t4 - 2\n",
        "t5"
      ],
      "metadata": {
        "id": "EbqFzrBs63Yi",
        "outputId": "7e629a06-c2c4-43dc-996f-6bec8796ccd6",
        "colab": {
          "base_uri": "https://localhost:8080/"
        }
      },
      "id": "EbqFzrBs63Yi",
      "execution_count": 10,
      "outputs": [
        {
          "output_type": "execute_result",
          "data": {
            "text/plain": [
              "tensor([21, 24, 27])"
            ]
          },
          "metadata": {},
          "execution_count": 10
        }
      ]
    },
    {
      "cell_type": "code",
      "source": [
        "t6 = t5 - t3\n",
        "t6"
      ],
      "metadata": {
        "id": "Jid132SH7BJ7",
        "outputId": "065fa961-0b37-42ee-ecbd-28e12d082795",
        "colab": {
          "base_uri": "https://localhost:8080/"
        }
      },
      "id": "Jid132SH7BJ7",
      "execution_count": 12,
      "outputs": [
        {
          "output_type": "execute_result",
          "data": {
            "text/plain": [
              "tensor([ 9, 10, 11])"
            ]
          },
          "metadata": {},
          "execution_count": 12
        }
      ]
    },
    {
      "cell_type": "code",
      "source": [
        "t.sub(t5,t6)"
      ],
      "metadata": {
        "id": "zoJBoUnr7I4b",
        "outputId": "b3630ef7-d2c0-40f0-880b-a6ca491bde39",
        "colab": {
          "base_uri": "https://localhost:8080/"
        }
      },
      "id": "zoJBoUnr7I4b",
      "execution_count": 13,
      "outputs": [
        {
          "output_type": "execute_result",
          "data": {
            "text/plain": [
              "tensor([12, 14, 16])"
            ]
          },
          "metadata": {},
          "execution_count": 13
        }
      ]
    },
    {
      "cell_type": "markdown",
      "source": [
        "# **3. Multiplication**"
      ],
      "metadata": {
        "id": "TBPB3Wq47RBE"
      },
      "id": "TBPB3Wq47RBE"
    },
    {
      "cell_type": "code",
      "source": [],
      "metadata": {
        "id": "FBUE4wX47VV0"
      },
      "id": "FBUE4wX47VV0",
      "execution_count": null,
      "outputs": []
    }
  ],
  "metadata": {
    "kernelspec": {
      "display_name": "Python 3",
      "name": "python3"
    },
    "language_info": {
      "name": "python"
    },
    "required_libs": [],
    "colab": {
      "provenance": [],
      "include_colab_link": true
    }
  },
  "nbformat": 4,
  "nbformat_minor": 5
}