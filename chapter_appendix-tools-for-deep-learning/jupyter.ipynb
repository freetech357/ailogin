{
  "cells": [
    {
      "cell_type": "markdown",
      "metadata": {
        "id": "view-in-github",
        "colab_type": "text"
      },
      "source": [
        "<a href=\"https://colab.research.google.com/github/freetech357/ailogin/blob/main/chapter_appendix-tools-for-deep-learning/jupyter.ipynb\" target=\"_parent\"><img src=\"https://colab.research.google.com/assets/colab-badge.svg\" alt=\"Open In Colab\"/></a>"
      ]
    },
    {
      "cell_type": "code",
      "source": [
        "import torch as t"
      ],
      "metadata": {
        "id": "QQ5AJEBF5BXQ"
      },
      "id": "QQ5AJEBF5BXQ",
      "execution_count": 2,
      "outputs": []
    },
    {
      "cell_type": "markdown",
      "source": [
        "## **1. Addition**"
      ],
      "metadata": {
        "id": "ZlCgbaTQ5f3l"
      },
      "id": "ZlCgbaTQ5f3l"
    },
    {
      "cell_type": "code",
      "source": [
        "t1 = t.tensor([1,2,3])\n",
        "t2 = t1 + 10\n",
        "t2"
      ],
      "metadata": {
        "id": "riJ7OV2m5J9z",
        "outputId": "87f21874-095d-4c49-c08e-20221bcd4e12",
        "colab": {
          "base_uri": "https://localhost:8080/"
        }
      },
      "id": "riJ7OV2m5J9z",
      "execution_count": 4,
      "outputs": [
        {
          "output_type": "execute_result",
          "data": {
            "text/plain": [
              "tensor([11, 12, 13])"
            ]
          },
          "metadata": {},
          "execution_count": 4
        }
      ]
    },
    {
      "cell_type": "code",
      "source": [
        "t3 = t1 + t2\n",
        "t3"
      ],
      "metadata": {
        "id": "7RztOLs56FBT",
        "outputId": "9a4ad3d8-68f1-41bf-f30b-fa20375e3a1f",
        "colab": {
          "base_uri": "https://localhost:8080/"
        }
      },
      "id": "7RztOLs56FBT",
      "execution_count": 5,
      "outputs": [
        {
          "output_type": "execute_result",
          "data": {
            "text/plain": [
              "tensor([12, 14, 16])"
            ]
          },
          "metadata": {},
          "execution_count": 5
        }
      ]
    }
  ],
  "metadata": {
    "kernelspec": {
      "display_name": "Python 3",
      "name": "python3"
    },
    "language_info": {
      "name": "python"
    },
    "required_libs": [],
    "colab": {
      "provenance": [],
      "include_colab_link": true
    }
  },
  "nbformat": 4,
  "nbformat_minor": 5
}