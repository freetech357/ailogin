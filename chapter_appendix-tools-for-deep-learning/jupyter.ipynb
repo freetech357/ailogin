{
  "cells": [
    {
      "cell_type": "markdown",
      "metadata": {
        "id": "view-in-github",
        "colab_type": "text"
      },
      "source": [
        "<a href=\"https://colab.research.google.com/github/freetech357/ailogin/blob/main/chapter_appendix-tools-for-deep-learning/jupyter.ipynb\" target=\"_parent\"><img src=\"https://colab.research.google.com/assets/colab-badge.svg\" alt=\"Open In Colab\"/></a>"
      ]
    },
    {
      "cell_type": "code",
      "source": [
        "import torch as t"
      ],
      "metadata": {
        "id": "QQ5AJEBF5BXQ"
      },
      "id": "QQ5AJEBF5BXQ",
      "execution_count": 2,
      "outputs": []
    },
    {
      "cell_type": "markdown",
      "source": [
        "## **1. Addition**"
      ],
      "metadata": {
        "id": "ZlCgbaTQ5f3l"
      },
      "id": "ZlCgbaTQ5f3l"
    },
    {
      "cell_type": "code",
      "source": [
        "t1 = t.tensor([1,2,3])\n",
        "t2 = t1 + 10\n",
        "t2"
      ],
      "metadata": {
        "colab": {
          "base_uri": "https://localhost:8080/"
        },
        "id": "riJ7OV2m5J9z",
        "outputId": "79c09c19-400c-4eab-9580-db8963832b4e"
      },
      "id": "riJ7OV2m5J9z",
      "execution_count": 3,
      "outputs": [
        {
          "output_type": "execute_result",
          "data": {
            "text/plain": [
              "tensor([11, 12, 13])"
            ]
          },
          "metadata": {},
          "execution_count": 3
        }
      ]
    },
    {
      "cell_type": "code",
      "source": [
        "t3 = t1 + t2\n",
        "t3"
      ],
      "metadata": {
        "colab": {
          "base_uri": "https://localhost:8080/"
        },
        "id": "7RztOLs56FBT",
        "outputId": "09e528f5-2767-414b-e653-5ce4a3400972"
      },
      "id": "7RztOLs56FBT",
      "execution_count": 4,
      "outputs": [
        {
          "output_type": "execute_result",
          "data": {
            "text/plain": [
              "tensor([12, 14, 16])"
            ]
          },
          "metadata": {},
          "execution_count": 4
        }
      ]
    },
    {
      "cell_type": "code",
      "source": [
        "t4 = t.add(t2,t3)\n",
        "t4"
      ],
      "metadata": {
        "colab": {
          "base_uri": "https://localhost:8080/"
        },
        "id": "ZkLyjWTW6eYF",
        "outputId": "b9766bec-8fa8-43a5-b350-55fe2f0ce149"
      },
      "id": "ZkLyjWTW6eYF",
      "execution_count": 5,
      "outputs": [
        {
          "output_type": "execute_result",
          "data": {
            "text/plain": [
              "tensor([23, 26, 29])"
            ]
          },
          "metadata": {},
          "execution_count": 5
        }
      ]
    },
    {
      "cell_type": "markdown",
      "source": [
        "# **2. Substraction**"
      ],
      "metadata": {
        "id": "g3mkq2yB6zTF"
      },
      "id": "g3mkq2yB6zTF"
    },
    {
      "cell_type": "code",
      "source": [
        "t5 = t4 - 2\n",
        "t5"
      ],
      "metadata": {
        "colab": {
          "base_uri": "https://localhost:8080/"
        },
        "id": "EbqFzrBs63Yi",
        "outputId": "ea085ab9-b253-4607-eb3e-d6e114011122"
      },
      "id": "EbqFzrBs63Yi",
      "execution_count": 6,
      "outputs": [
        {
          "output_type": "execute_result",
          "data": {
            "text/plain": [
              "tensor([21, 24, 27])"
            ]
          },
          "metadata": {},
          "execution_count": 6
        }
      ]
    },
    {
      "cell_type": "code",
      "source": [
        "t6 = t5 - t3\n",
        "t6"
      ],
      "metadata": {
        "colab": {
          "base_uri": "https://localhost:8080/"
        },
        "id": "Jid132SH7BJ7",
        "outputId": "6244464a-dadd-4ffb-a3c2-752a6425699c"
      },
      "id": "Jid132SH7BJ7",
      "execution_count": 7,
      "outputs": [
        {
          "output_type": "execute_result",
          "data": {
            "text/plain": [
              "tensor([ 9, 10, 11])"
            ]
          },
          "metadata": {},
          "execution_count": 7
        }
      ]
    },
    {
      "cell_type": "code",
      "source": [
        "t.sub(t5,t6)"
      ],
      "metadata": {
        "colab": {
          "base_uri": "https://localhost:8080/"
        },
        "id": "zoJBoUnr7I4b",
        "outputId": "b94873e8-907b-4550-8c89-95e5bbbc0b20"
      },
      "id": "zoJBoUnr7I4b",
      "execution_count": 8,
      "outputs": [
        {
          "output_type": "execute_result",
          "data": {
            "text/plain": [
              "tensor([12, 14, 16])"
            ]
          },
          "metadata": {},
          "execution_count": 8
        }
      ]
    },
    {
      "cell_type": "markdown",
      "source": [
        "# **3. Multiplication (Element wise)**"
      ],
      "metadata": {
        "id": "TBPB3Wq47RBE"
      },
      "id": "TBPB3Wq47RBE"
    },
    {
      "cell_type": "code",
      "source": [
        "t7 = t6 * 10\n",
        "t7"
      ],
      "metadata": {
        "colab": {
          "base_uri": "https://localhost:8080/"
        },
        "id": "FBUE4wX47VV0",
        "outputId": "c6d990e1-4ec5-44b0-a829-c6f0ab0a6dbe"
      },
      "id": "FBUE4wX47VV0",
      "execution_count": 9,
      "outputs": [
        {
          "output_type": "execute_result",
          "data": {
            "text/plain": [
              "tensor([ 90, 100, 110])"
            ]
          },
          "metadata": {},
          "execution_count": 9
        }
      ]
    },
    {
      "cell_type": "code",
      "source": [
        "t8 = t5 * t1\n",
        "t8"
      ],
      "metadata": {
        "id": "nfy4jOLI7sIN",
        "outputId": "146397e0-9fb0-4550-b702-c087e28bedfa",
        "colab": {
          "base_uri": "https://localhost:8080/"
        }
      },
      "id": "nfy4jOLI7sIN",
      "execution_count": 10,
      "outputs": [
        {
          "output_type": "execute_result",
          "data": {
            "text/plain": [
              "tensor([21, 48, 81])"
            ]
          },
          "metadata": {},
          "execution_count": 10
        }
      ]
    },
    {
      "cell_type": "code",
      "source": [
        "t9 = t.mul(t2,t3)"
      ],
      "metadata": {
        "id": "tbLr5xKe7zj0"
      },
      "id": "tbLr5xKe7zj0",
      "execution_count": 11,
      "outputs": []
    },
    {
      "cell_type": "code",
      "source": [
        "t10 = t.mul(t1,10)\n",
        "t10"
      ],
      "metadata": {
        "id": "_EFXT-Iw8CX9",
        "outputId": "8bbb0e3d-014b-461a-83b4-b0ce74436fd1",
        "colab": {
          "base_uri": "https://localhost:8080/"
        }
      },
      "id": "_EFXT-Iw8CX9",
      "execution_count": 12,
      "outputs": [
        {
          "output_type": "execute_result",
          "data": {
            "text/plain": [
              "tensor([10, 20, 30])"
            ]
          },
          "metadata": {},
          "execution_count": 12
        }
      ]
    },
    {
      "cell_type": "markdown",
      "source": [
        "# **4. Divisions**"
      ],
      "metadata": {
        "id": "9F32jYUu8LjW"
      },
      "id": "9F32jYUu8LjW"
    },
    {
      "cell_type": "code",
      "source": [
        "t11 = t2 / 10\n",
        "t11"
      ],
      "metadata": {
        "id": "x1_84IUV8PIP",
        "outputId": "8448821d-6677-435c-cddb-88a879dba398",
        "colab": {
          "base_uri": "https://localhost:8080/"
        }
      },
      "id": "x1_84IUV8PIP",
      "execution_count": 13,
      "outputs": [
        {
          "output_type": "execute_result",
          "data": {
            "text/plain": [
              "tensor([1.1000, 1.2000, 1.3000])"
            ]
          },
          "metadata": {},
          "execution_count": 13
        }
      ]
    },
    {
      "cell_type": "markdown",
      "source": [
        "# **5. Matrix multiplication**"
      ],
      "metadata": {
        "id": "tEBJRKSS9KJX"
      },
      "id": "tEBJRKSS9KJX"
    },
    {
      "cell_type": "code",
      "source": [
        "t12 = t1 @ t2\n",
        "t12"
      ],
      "metadata": {
        "id": "stQc19kv9JG3",
        "outputId": "3fbd7b25-fa4a-4f62-a440-8303557a68cb",
        "colab": {
          "base_uri": "https://localhost:8080/"
        }
      },
      "id": "stQc19kv9JG3",
      "execution_count": 14,
      "outputs": [
        {
          "output_type": "execute_result",
          "data": {
            "text/plain": [
              "tensor(74)"
            ]
          },
          "metadata": {},
          "execution_count": 14
        }
      ]
    },
    {
      "cell_type": "code",
      "source": [
        "t13 = t.rand(2,3)\n",
        "t14 = t.rand(2,3)\n"
      ],
      "metadata": {
        "id": "FiNHV9QG9fPs"
      },
      "id": "FiNHV9QG9fPs",
      "execution_count": 25,
      "outputs": []
    },
    {
      "cell_type": "code",
      "source": [
        "t14 = t.matmul(t1, t2)\n",
        "t14"
      ],
      "metadata": {
        "id": "62jrQxYZZV4m",
        "outputId": "9654b380-e758-4fea-8a85-2fd7c1c698e5",
        "colab": {
          "base_uri": "https://localhost:8080/"
        }
      },
      "id": "62jrQxYZZV4m",
      "execution_count": 33,
      "outputs": [
        {
          "output_type": "execute_result",
          "data": {
            "text/plain": [
              "tensor(74)"
            ]
          },
          "metadata": {},
          "execution_count": 33
        }
      ]
    },
    {
      "cell_type": "markdown",
      "source": [
        "# **6. Common Errors**"
      ],
      "metadata": {
        "id": "XdlGOKkQbBNz"
      },
      "id": "XdlGOKkQbBNz"
    },
    {
      "cell_type": "code",
      "source": [
        "t16 = t.rand(3,2)\n",
        "t16.T"
      ],
      "metadata": {
        "id": "h5W2zy9SbIy-",
        "outputId": "30c11160-7e5e-4037-a350-bc828ded09a3",
        "colab": {
          "base_uri": "https://localhost:8080/"
        }
      },
      "id": "h5W2zy9SbIy-",
      "execution_count": 36,
      "outputs": [
        {
          "output_type": "execute_result",
          "data": {
            "text/plain": [
              "tensor([[0.6574, 0.5143],\n",
              "        [0.4105, 0.4077],\n",
              "        [0.0296, 0.3422]])"
            ]
          },
          "metadata": {},
          "execution_count": 36
        }
      ]
    }
  ],
  "metadata": {
    "kernelspec": {
      "display_name": "Python 3",
      "name": "python3"
    },
    "language_info": {
      "name": "python"
    },
    "required_libs": [],
    "colab": {
      "provenance": [],
      "include_colab_link": true
    }
  },
  "nbformat": 4,
  "nbformat_minor": 5
}